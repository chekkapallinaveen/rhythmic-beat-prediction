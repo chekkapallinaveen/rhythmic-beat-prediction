{
 "cells": [
  {
   "cell_type": "code",
   "execution_count": 192,
   "metadata": {},
   "outputs": [],
   "source": [
    "import librosa\n",
    "import librosa.display\n",
    "import os\n",
    "import numpy as np\n",
    "from torch.utils.data.dataset import random_split\n",
    "import torch\n",
    "import torch.nn as nn\n",
    "import torch.optim as optim\n",
    "import torch.nn.functional as F\n",
    "from torch.utils.data import DataLoader, TensorDataset\n",
    "from sklearn.preprocessing import LabelEncoder, StandardScaler"
   ]
  },
  {
   "cell_type": "code",
   "execution_count": 193,
   "metadata": {},
   "outputs": [],
   "source": [
    "file_repo = '../CMR_subset_1.0/audio'\n",
    "\n",
    "ss = StandardScaler()\n",
    "\n",
    "# extract features from all the files in the repo\n",
    "def extract_features(file_repo):\n",
    "  features = []\n",
    "  for file in os.listdir(file_repo):\n",
    "    if file.endswith(\".wav\"):\n",
    "      file_path = os.path.join(file_repo, file)\n",
    "      y, sr = librosa.load(file_path)\n",
    "      chroma = librosa.feature.chroma_stft(y=y, sr=sr)\n",
    "      mfccs = librosa.feature.mfcc(y=y, sr=sr)\n",
    "      combined_features = np.vstack((chroma, mfccs)).T\n",
    "      ss.fit(combined_features)\n",
    "      features.append(combined_features)\n",
    "  return features\n",
    "\n",
    "extracted_features = extract_features(file_repo)"
   ]
  },
  {
   "cell_type": "code",
   "execution_count": 194,
   "metadata": {},
   "outputs": [],
   "source": [
    "file_path = '../CMR_subset_1.0/CMRdataset.csv'\n",
    "\n",
    "def extract_labels(file_path):\n",
    "  labels = []\n",
    "  with open(file_path, 'r') as f:\n",
    "    # leave out the header\n",
    "    next(f)\n",
    "    for line in f:\n",
    "      line = line.strip()\n",
    "      line = line.split(',')\n",
    "      labels.append(int(line[-1]))\n",
    "  return labels\n",
    "\n",
    "extracted_labels = extract_labels(file_path)"
   ]
  },
  {
   "cell_type": "code",
   "execution_count": 195,
   "metadata": {},
   "outputs": [
    {
     "name": "stdout",
     "output_type": "stream",
     "text": [
      "(118, 1, 5168, 32)\n"
     ]
    }
   ],
   "source": [
    "for i in range(len(extracted_features)):\n",
    "  num_steps, num_features = extracted_features[i].shape\n",
    "  if num_steps != 5168:\n",
    "    for j in range(5168 - num_steps):\n",
    "      extracted_features[i] = np.vstack((extracted_features[i], np.zeros(num_features)))\n",
    "      \n",
    "extracted_features = np.array(extracted_features).reshape(118, 1, 5168, 32)\n",
    "print(extracted_features.shape)"
   ]
  },
  {
   "cell_type": "code",
   "execution_count": 196,
   "metadata": {},
   "outputs": [
    {
     "name": "stdout",
     "output_type": "stream",
     "text": [
      "(118,)\n"
     ]
    }
   ],
   "source": [
    "label_encoder = LabelEncoder()\n",
    "\n",
    "extracted_labels = label_encoder.fit_transform(extracted_labels)\n",
    "print(extracted_labels.shape)\n",
    "\n",
    "extracted_features = torch.from_numpy(extracted_features).float()\n",
    "extracted_labels = torch.tensor(extracted_labels).long().squeeze()"
   ]
  },
  {
   "cell_type": "code",
   "execution_count": 197,
   "metadata": {},
   "outputs": [
    {
     "name": "stdout",
     "output_type": "stream",
     "text": [
      "Train dataset size: 82\n",
      "Validation dataset size: 18\n",
      "Test dataset size: 18\n"
     ]
    }
   ],
   "source": [
    "dataset = TensorDataset(extracted_features, extracted_labels)\n",
    "\n",
    "total_size = len(dataset)\n",
    "train_size = int(0.7 * total_size)\n",
    "val_size = (total_size - train_size) // 2\n",
    "test_size = total_size - train_size - val_size\n",
    "\n",
    "# Split the dataset\n",
    "train_dataset, val_dataset, test_dataset = random_split(dataset, [train_size, val_size, test_size])\n",
    "\n",
    "print(f\"Train dataset size: {len(train_dataset)}\")\n",
    "print(f\"Validation dataset size: {len(val_dataset)}\")\n",
    "print(f\"Test dataset size: {len(test_dataset)}\")"
   ]
  },
  {
   "cell_type": "markdown",
   "metadata": {},
   "source": [
    "### CNN Model for Rhythmic beat classification"
   ]
  },
  {
   "cell_type": "code",
   "execution_count": 198,
   "metadata": {},
   "outputs": [],
   "source": [
    "class Reshape(nn.Module):\n",
    "  def __init__(self, shape):\n",
    "    super(Reshape, self).__init__()\n",
    "    self.shape = shape\n",
    "\n",
    "  def forward(self, x):\n",
    "    return x.view(self.shape)\n",
    "\n",
    "class CNN(nn.Module):\n",
    "  def __init__(\n",
    "    self,\n",
    "    kernel_size=3,\n",
    "    stride=1,\n",
    "    padding=1,\n",
    "    dropout=0.2,\n",
    "    learning_rate=0.001,\n",
    "    batch_size=64,\n",
    "    num_epochs=10\n",
    "  ):\n",
    "    super(CNN, self).__init__()\n",
    "    \n",
    "    self.conv1 = nn.Conv2d(\n",
    "      in_channels=1, \n",
    "      out_channels=16, \n",
    "      kernel_size=kernel_size, \n",
    "      stride=stride,\n",
    "      padding=padding\n",
    "    )\n",
    "    self.relu = nn.ReLU()\n",
    "    self.pool = nn.MaxPool2d(kernel_size=2, stride=2)\n",
    "    \n",
    "    self.conv2 = nn.Conv2d(\n",
    "      in_channels=16, \n",
    "      out_channels=32,\n",
    "      kernel_size=kernel_size,\n",
    "      stride=stride,\n",
    "      padding=padding\n",
    "    )\n",
    "    self.dim1 = 1292\n",
    "    self.dim2 = 8\n",
    "    \n",
    "    self.adjust_shape = Reshape((-1, 32*self.dim1*self.dim2))\n",
    "    \n",
    "    self.dropout = nn.Dropout(p=dropout)\n",
    "    self.fc = nn.Linear(32*self.dim1*self.dim2, 4)\n",
    "    self.softmax = nn.Softmax(dim=1)\n",
    "    \n",
    "    self.layers = [\n",
    "      self.conv1,         \n",
    "      self.pool,          \n",
    "      self.relu,          \n",
    "      self.conv2,         \n",
    "      self.pool,          \n",
    "      self.relu,          \n",
    "      self.dropout,       \n",
    "      self.adjust_shape,  \n",
    "      self.fc,            \n",
    "      self.softmax        \n",
    "    ]\n",
    "    \n",
    "    self.criterion = nn.CrossEntropyLoss()\n",
    "    self.optimizer = optim.Adam(self.parameters(), lr=learning_rate)\n",
    "    self.num_epochs = num_epochs\n",
    "    self.batch_size = batch_size\n",
    "\n",
    "  def forward(self, x):\n",
    "    x = self.conv1(x)\n",
    "    x = self.pool(x)\n",
    "    x = self.relu(x)\n",
    "    \n",
    "    x = self.conv2(x)\n",
    "    x = self.pool(x)\n",
    "    x = self.relu(x)\n",
    "    \n",
    "    x = self.dropout(x)\n",
    "    x = self.adjust_shape(x)\n",
    "    x = self.fc(x)\n",
    "    x = self.softmax(x)\n",
    "    return x\n",
    "  \n",
    "  def train_model(self, train_dataset, val_dataset):\n",
    "    train_loader = DataLoader(train_dataset, batch_size=self.batch_size, shuffle=True)\n",
    "    val_loader = DataLoader(val_dataset, batch_size=self.batch_size, shuffle=True)\n",
    "    \n",
    "    train_loss, val_loss, accuracy, val_accuracy = 0,0,0,0\n",
    "    \n",
    "    for epoch in range(self.num_epochs):\n",
    "      self.train()\n",
    "      train_loss = 0.0\n",
    "      correct = 0\n",
    "      total = 0\n",
    "      \n",
    "      val_loss = 0.0\n",
    "      val_correct = 0\n",
    "      val_total = 0\n",
    "      \n",
    "      for inputs, labels in train_loader:\n",
    "        self.optimizer.zero_grad()\n",
    "        outputs = self(inputs)\n",
    "        loss = self.criterion(outputs, labels)\n",
    "        loss.backward(retain_graph=True)\n",
    "        self.optimizer.step()\n",
    "\n",
    "        train_loss += loss.item()\n",
    "        _, predicted = torch.max(outputs.data, 1)\n",
    "        total += labels.size(0)\n",
    "        correct += (predicted == labels).sum().item()\n",
    "\n",
    "      self.eval()\n",
    "      for inputs, labels in val_loader:\n",
    "        self.optimizer.zero_grad()\n",
    "        outputs = self(inputs)\n",
    "        loss = self.criterion(outputs, labels)\n",
    "        loss.backward(retain_graph=True)\n",
    "        self.optimizer.step()\n",
    "\n",
    "        val_loss += loss.item()\n",
    "        _, predicted = torch.max(outputs.data, 1)\n",
    "        val_total += labels.size(0)\n",
    "        val_correct += (predicted == labels).sum().item()\n",
    "\n",
    "      val_accuracy = val_correct / val_total\n",
    "      accuracy = correct / total\n",
    "\n",
    "      print(\n",
    "        f'Epoch {epoch+1}/{self.num_epochs}, '\n",
    "        f'Loss(Train): {train_loss:.4f}, '\n",
    "        f'Accuracy(Train): {accuracy:.2f}, '\n",
    "        f'Loss(Val): {val_loss:.4f}, '\n",
    "        f'Accuracy(Val): {val_accuracy:.2f}'\n",
    "      )\n",
    "    return train_loss, val_loss, accuracy, val_accuracy\n",
    "  \n",
    "  def predict(self, pred_dataset):\n",
    "    pred_loader = DataLoader(pred_dataset, batch_size=self.batch_size, shuffle=False)\n",
    "    self.eval()\n",
    "    predictions = []\n",
    "    labels_true = []\n",
    "    for inputs, labels in pred_loader:\n",
    "      outputs = self(inputs)\n",
    "      _, predicted = torch.max(outputs.data, 1)\n",
    "      predictions.extend(predicted.tolist())\n",
    "      labels_true.extend(labels.numpy())\n",
    "    return predictions, labels_true"
   ]
  },
  {
   "cell_type": "code",
   "execution_count": 199,
   "metadata": {},
   "outputs": [
    {
     "name": "stdout",
     "output_type": "stream",
     "text": [
      "Epoch 1/10, Loss(Train): 3.0498, Accuracy(Train): 0.23, Loss(Val): 1.5214, Accuracy(Val): 0.22\n",
      "Epoch 2/10, Loss(Train): 2.9439, Accuracy(Train): 0.27, Loss(Val): 1.5214, Accuracy(Val): 0.22\n",
      "Epoch 3/10, Loss(Train): 2.9040, Accuracy(Train): 0.27, Loss(Val): 1.5214, Accuracy(Val): 0.22\n",
      "Epoch 4/10, Loss(Train): 2.9040, Accuracy(Train): 0.27, Loss(Val): 1.5214, Accuracy(Val): 0.22\n",
      "Epoch 5/10, Loss(Train): 2.8641, Accuracy(Train): 0.27, Loss(Val): 1.5214, Accuracy(Val): 0.22\n",
      "Epoch 6/10, Loss(Train): 2.8641, Accuracy(Train): 0.27, Loss(Val): 1.5214, Accuracy(Val): 0.22\n",
      "Epoch 7/10, Loss(Train): 2.9040, Accuracy(Train): 0.27, Loss(Val): 1.5214, Accuracy(Val): 0.22\n",
      "Epoch 8/10, Loss(Train): 3.1037, Accuracy(Train): 0.27, Loss(Val): 1.5214, Accuracy(Val): 0.22\n",
      "Epoch 9/10, Loss(Train): 2.9839, Accuracy(Train): 0.27, Loss(Val): 1.5214, Accuracy(Val): 0.22\n",
      "Epoch 10/10, Loss(Train): 2.9839, Accuracy(Train): 0.27, Loss(Val): 1.5214, Accuracy(Val): 0.22\n",
      "Final Accuracy(Train): 0.27, Final Accuracy(Val): 0.22\n"
     ]
    }
   ],
   "source": [
    "# train the model\n",
    "model = CNN()\n",
    "train_loss, val_loss, accuracy, val_accuracy = model.train_model(train_dataset, val_dataset)\n",
    "\n",
    "print(f'Final Accuracy(Train): {accuracy:.2f}, Final Accuracy(Val): {val_accuracy:.2f}')"
   ]
  }
 ],
 "metadata": {
  "kernelspec": {
   "display_name": "Python 3",
   "language": "python",
   "name": "python3"
  },
  "language_info": {
   "codemirror_mode": {
    "name": "ipython",
    "version": 3
   },
   "file_extension": ".py",
   "mimetype": "text/x-python",
   "name": "python",
   "nbconvert_exporter": "python",
   "pygments_lexer": "ipython3",
   "version": "3.9.18"
  }
 },
 "nbformat": 4,
 "nbformat_minor": 2
}
