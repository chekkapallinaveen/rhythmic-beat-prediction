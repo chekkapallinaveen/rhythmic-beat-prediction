{
 "cells": [
  {
   "cell_type": "code",
   "execution_count": 2,
   "metadata": {},
   "outputs": [],
   "source": [
    "import librosa\n",
    "import librosa.display\n",
    "import os\n",
    "import numpy as np\n",
    "from torch.utils.data.dataset import random_split\n",
    "import torch\n",
    "import torch.nn as nn\n",
    "import torch.optim as optim\n",
    "import torch.nn.functional as F\n",
    "from torch.utils.data import DataLoader, TensorDataset\n",
    "from sklearn.preprocessing import LabelEncoder, StandardScaler\n",
    "from sklearn.metrics import classification_report, accuracy_score\n",
    "from joblib import dump"
   ]
  },
  {
   "cell_type": "code",
   "execution_count": 3,
   "metadata": {},
   "outputs": [],
   "source": [
    "file_path = '../CMR_subset_1.0/CMRdataset.csv'\n",
    "\n",
    "def extract_labels(file_path):\n",
    "  labels = []\n",
    "  with open(file_path, 'r') as f:\n",
    "    # leave out the header\n",
    "    next(f)\n",
    "    for line in f:\n",
    "      line = line.strip()\n",
    "      line = line.split(',')\n",
    "      labels.append(int(line[-1]))\n",
    "  return labels\n",
    "\n",
    "extracted_labels = extract_labels(file_path)"
   ]
  },
  {
   "cell_type": "code",
   "execution_count": 4,
   "metadata": {},
   "outputs": [
    {
     "name": "stdout",
     "output_type": "stream",
     "text": [
      "(118,)\n"
     ]
    },
    {
     "data": {
      "text/plain": [
       "['label_encoder.joblib']"
      ]
     },
     "execution_count": 4,
     "metadata": {},
     "output_type": "execute_result"
    }
   ],
   "source": [
    "label_encoder = LabelEncoder()\n",
    "\n",
    "extracted_labels = label_encoder.fit_transform(extracted_labels)\n",
    "print(extracted_labels.shape)\n",
    "\n",
    "dump(label_encoder, 'label_encoder.joblib')"
   ]
  },
  {
   "cell_type": "markdown",
   "metadata": {},
   "source": [
    "### CNN Model for Rhythmic beat classification"
   ]
  },
  {
   "cell_type": "code",
   "execution_count": 5,
   "metadata": {},
   "outputs": [],
   "source": [
    "class Reshape(nn.Module):\n",
    "  def __init__(self, shape):\n",
    "    super(Reshape, self).__init__()\n",
    "    self.shape = shape\n",
    "\n",
    "  def forward(self, x):\n",
    "    return x.view(self.shape)\n",
    "\n",
    "class CNN(nn.Module):\n",
    "  def __init__(\n",
    "    self,\n",
    "    kernel_size=3,\n",
    "    stride=1,\n",
    "    padding=1,\n",
    "    dropout=0.2,\n",
    "    learning_rate=0.001,\n",
    "    batch_size=64,\n",
    "    num_epochs=5\n",
    "  ):\n",
    "    super(CNN, self).__init__()\n",
    "    \n",
    "    self.conv1 = nn.Conv2d(\n",
    "      in_channels=1, \n",
    "      out_channels=16, \n",
    "      kernel_size=kernel_size, \n",
    "      stride=stride,\n",
    "      padding=padding\n",
    "    )\n",
    "    self.relu = nn.ReLU()\n",
    "    self.pool = nn.MaxPool2d(kernel_size=2, stride=2)\n",
    "    \n",
    "    self.conv2 = nn.Conv2d(\n",
    "      in_channels=16, \n",
    "      out_channels=32,\n",
    "      kernel_size=kernel_size,\n",
    "      stride=stride,\n",
    "      padding=padding\n",
    "    )\n",
    "    \n",
    "    self.dim1 = 10\n",
    "    self.dim2 = 30\n",
    "    \n",
    "    self.adjust_shape = Reshape((-1, 32*self.dim1*self.dim2))\n",
    "    \n",
    "    self.dropout = nn.Dropout(p=dropout)\n",
    "    self.fc = nn.Linear(32*self.dim1*self.dim2, 4)\n",
    "    self.softmax = nn.Softmax(dim=1)\n",
    "    \n",
    "    self.layers = [\n",
    "      self.conv1,         \n",
    "      self.pool,          \n",
    "      self.relu,          \n",
    "      self.conv2,         \n",
    "      self.pool,          \n",
    "      self.relu,          \n",
    "      self.dropout,       \n",
    "      self.adjust_shape,  \n",
    "      self.fc,            \n",
    "      self.softmax        \n",
    "    ]\n",
    "    \n",
    "    self.criterion = nn.CrossEntropyLoss()\n",
    "    self.optimizer = optim.Adam(self.parameters(), lr=learning_rate)\n",
    "    self.num_epochs = num_epochs\n",
    "    self.batch_size = batch_size\n",
    "\n",
    "  def forward(self, x):\n",
    "    x = self.conv1(x)\n",
    "    x = self.pool(x)\n",
    "    x = self.relu(x)\n",
    "    \n",
    "    x = self.conv2(x)\n",
    "    x = self.pool(x)\n",
    "    x = self.relu(x)\n",
    "    \n",
    "    x = self.dropout(x)\n",
    "    x = self.adjust_shape(x)\n",
    "    x = self.fc(x)\n",
    "    x = self.softmax(x)\n",
    "    return x\n",
    "  \n",
    "  def train_model(self, train_dataset, val_dataset):\n",
    "    train_loader = DataLoader(train_dataset, batch_size=self.batch_size, shuffle=True)\n",
    "    val_loader = DataLoader(val_dataset, batch_size=self.batch_size, shuffle=True)\n",
    "    \n",
    "    train_loss, val_loss, accuracy, val_accuracy = 0,0,0,0\n",
    "    \n",
    "    for epoch in range(self.num_epochs):\n",
    "      self.train()\n",
    "      train_loss = 0.0\n",
    "      correct = 0\n",
    "      total = 0\n",
    "      \n",
    "      val_loss = 0.0\n",
    "      val_correct = 0\n",
    "      val_total = 0\n",
    "      \n",
    "      for inputs, labels in train_loader:\n",
    "        self.optimizer.zero_grad()\n",
    "        outputs = self(inputs)\n",
    "        loss = self.criterion(outputs, labels)\n",
    "        loss.backward(retain_graph=True)\n",
    "        self.optimizer.step()\n",
    "\n",
    "        train_loss += loss.item()\n",
    "        _, predicted = torch.max(outputs.data, 1)\n",
    "        total += labels.size(0)\n",
    "        correct += (predicted == labels).sum().item()\n",
    "\n",
    "      self.eval()\n",
    "      for inputs, labels in val_loader:\n",
    "        self.optimizer.zero_grad()\n",
    "        outputs = self(inputs)\n",
    "        loss = self.criterion(outputs, labels)\n",
    "        loss.backward(retain_graph=True)\n",
    "        self.optimizer.step()\n",
    "\n",
    "        val_loss += loss.item()\n",
    "        _, predicted = torch.max(outputs.data, 1)\n",
    "        val_total += labels.size(0)\n",
    "        val_correct += (predicted == labels).sum().item()\n",
    "\n",
    "      val_accuracy = val_correct / val_total\n",
    "      accuracy = correct / total\n",
    "\n",
    "      print(\n",
    "        f'Epoch {epoch+1}/{self.num_epochs}, '\n",
    "        f'Loss(Train): {train_loss:.4f}, '\n",
    "        f'Accuracy(Train): {accuracy:.2f}, '\n",
    "        f'Loss(Val): {val_loss:.4f}, '\n",
    "        f'Accuracy(Val): {val_accuracy:.2f}'\n",
    "      )\n",
    "    return train_loss, val_loss, accuracy, val_accuracy\n",
    "  \n",
    "  def predict(self, pred_dataset):\n",
    "    pred_loader = DataLoader(pred_dataset, batch_size=self.batch_size, shuffle=False)\n",
    "    self.eval()\n",
    "    predictions = []\n",
    "    labels_true = []\n",
    "    for inputs, labels in pred_loader:\n",
    "      outputs = self(inputs)\n",
    "      _, predicted = torch.max(outputs.data, 1)\n",
    "      predictions.extend(predicted.tolist())\n",
    "      labels_true.extend(labels.numpy())\n",
    "    return predictions, labels_true"
   ]
  },
  {
   "cell_type": "code",
   "execution_count": 6,
   "metadata": {},
   "outputs": [
    {
     "name": "stderr",
     "output_type": "stream",
     "text": [
      "/Users/chnaveen/Library/Python/3.9/lib/python/site-packages/librosa/core/pitch.py:101: UserWarning: Trying to estimate tuning from empty frequency set.\n",
      "  return pitch_tuning(\n"
     ]
    }
   ],
   "source": [
    "import librosa\n",
    "import os\n",
    "import numpy as np\n",
    "\n",
    "def extract_features(file_repo, duration_per_step=0.1, n_fft=1024, n_mfcc=13, hop_length=512):\n",
    "  amplitudes = []\n",
    "  magnitude_spectrograms = []\n",
    "  mfcc_features = []\n",
    "  chroma_features = []\n",
    "\n",
    "  for audio_file in os.listdir(file_repo):\n",
    "    if not audio_file.endswith('.wav'):\n",
    "      continue\n",
    "\n",
    "    # Create the full path to the audio file\n",
    "    full_path = os.path.join(file_repo, audio_file)\n",
    "\n",
    "    # Load audio file\n",
    "    y, sr = librosa.load(full_path)\n",
    "\n",
    "    # Calculate the number of steps based on the desired duration\n",
    "    num_steps = int(len(y) / sr / duration_per_step)\n",
    "    if num_steps < 1200:\n",
    "      # padding to make sure all the files have the same length\n",
    "      y = np.pad(y, (0, 1200 * sr - len(y)), 'constant')\n",
    "      num_steps = 1200\n",
    "\n",
    "    # Iterate over the steps and extract features\n",
    "    for step in range(num_steps):\n",
    "      start = int(step * sr * duration_per_step)\n",
    "      end = int((step + 1) * sr * duration_per_step)\n",
    "\n",
    "      # Ensure that the end index does not exceed the length of the audio signal\n",
    "      end = min(end, len(y))\n",
    "\n",
    "      interval_data = y[start:end]\n",
    "\n",
    "      # Amplitude (Time-domain representation)\n",
    "      amplitude = np.mean(interval_data)\n",
    "      amplitudes.append(amplitude)\n",
    "\n",
    "      # Frequency (Frequency-domain representation - Magnitude Spectrogram)\n",
    "      magnitude_spectrogram = np.mean(np.abs(librosa.stft(interval_data, n_fft=n_fft)))\n",
    "      magnitude_spectrograms.append(magnitude_spectrogram)\n",
    "\n",
    "      # MFCC features\n",
    "      mfccf = librosa.feature.mfcc(y=interval_data, sr=sr, n_mfcc=n_mfcc, hop_length=hop_length, n_fft=n_fft)\n",
    "      mfcc_features.append(mfccf)\n",
    "\n",
    "      # Chroma features\n",
    "      chromaf = librosa.feature.chroma_stft(y=interval_data, sr=sr, hop_length=hop_length, n_fft=n_fft)\n",
    "      chroma_features.append(chromaf)\n",
    "\n",
    "  return amplitudes, magnitude_spectrograms, mfcc_features, chroma_features\n",
    "\n",
    "# Example usage\n",
    "file_repo = '../CMR_subset_1.0/audio'\n",
    "amps, mags, mfccs, chromas = extract_features(file_repo, duration_per_step=0.1, n_fft=1024)"
   ]
  },
  {
   "cell_type": "code",
   "execution_count": 7,
   "metadata": {},
   "outputs": [
    {
     "name": "stdout",
     "output_type": "stream",
     "text": [
      "(141600,)\n",
      "(141600,)\n",
      "(118, 4800)\n"
     ]
    }
   ],
   "source": [
    "from sklearn.tree import DecisionTreeClassifier\n",
    "from sklearn.model_selection import train_test_split\n",
    "\n",
    "mfccs_new = np.array(mfccs).reshape(141600, 13*5)\n",
    "chromas_new = np.array(chromas).reshape(141600, 12*5)\n",
    "\n",
    "mfccs_new = np.mean(mfccs_new, axis=1)\n",
    "chromas_new = np.mean(chromas_new, axis=1)\n",
    "\n",
    "print(mfccs_new.shape)\n",
    "print(chromas_new.shape)\n",
    "\n",
    "amps_mags = np.hstack((amps, mags, mfccs_new, chromas_new))\n",
    "amps_mags = amps_mags.reshape(118, -1)\n",
    "print(amps_mags.shape)"
   ]
  },
  {
   "cell_type": "code",
   "execution_count": 8,
   "metadata": {},
   "outputs": [
    {
     "name": "stdout",
     "output_type": "stream",
     "text": [
      "\n",
      "1.0\n",
      "[3 5 8 7 7 8 3 8 5 8 7 7 3 8 8 3 5 5]\n",
      "[3 5 8 7 7 8 3 8 5 8 7 7 3 8 8 3 5 5]\n",
      "0.9444444444444444\n",
      "[5 5 3 8 3 3 3 3 7 8 5 5 8 7 7 8 3 5]\n",
      "[5 7 3 8 3 3 3 3 7 8 5 5 8 7 7 8 3 5]\n"
     ]
    }
   ],
   "source": [
    "X_amp_mag_train, X_amp_mag_test, y_amp_mag_train, y_amp_mag_test = train_test_split(amps_mags, extracted_labels, test_size=0.3, random_state=42)\n",
    "X_amp_mag_test, X_amp_mag_val, y_amp_mag_test, y_amp_mag_val = train_test_split(X_amp_mag_test, y_amp_mag_test, test_size=0.5, random_state=42)\n",
    "\n",
    "dt_amp_mag_classifier = DecisionTreeClassifier()\n",
    "\n",
    "dt_amp_mag_classifier.fit(X_amp_mag_train, y_amp_mag_train)\n",
    "print()\n",
    "\n",
    "y_amp_mag_pred = dt_amp_mag_classifier.predict(X_amp_mag_val)\n",
    "print(accuracy_score(y_amp_mag_val, y_amp_mag_pred))\n",
    "print(label_encoder.inverse_transform(y_amp_mag_pred))\n",
    "print(label_encoder.inverse_transform(y_amp_mag_val))\n",
    "\n",
    "y_amp_mag_pred = dt_amp_mag_classifier.predict(X_amp_mag_test)\n",
    "print(accuracy_score(y_amp_mag_test, y_amp_mag_pred))\n",
    "print(label_encoder.inverse_transform(y_amp_mag_pred))\n",
    "print(label_encoder.inverse_transform(y_amp_mag_test))"
   ]
  },
  {
   "cell_type": "code",
   "execution_count": 9,
   "metadata": {},
   "outputs": [
    {
     "data": {
      "text/plain": [
       "['dt_amp_mag_classifier.joblib']"
      ]
     },
     "execution_count": 9,
     "metadata": {},
     "output_type": "execute_result"
    }
   ],
   "source": [
    "from joblib import dump\n",
    "\n",
    "dump(dt_amp_mag_classifier, 'dt_amp_mag_classifier.joblib')"
   ]
  },
  {
   "cell_type": "code",
   "execution_count": 10,
   "metadata": {},
   "outputs": [
    {
     "name": "stdout",
     "output_type": "stream",
     "text": [
      "\n",
      "1.0\n",
      "[3 5 8 7 7 8 3 8 5 8 7 7 3 8 8 3 5 5]\n",
      "[3 5 8 7 7 8 3 8 5 8 7 7 3 8 8 3 5 5]\n",
      "0.8888888888888888\n",
      "[5 5 3 8 3 3 5 3 7 8 5 5 8 7 7 8 3 5]\n",
      "[5 7 3 8 3 3 3 3 7 8 5 5 8 7 7 8 3 5]\n"
     ]
    },
    {
     "data": {
      "text/plain": [
       "['rf_amp_mag_classifier.joblib']"
      ]
     },
     "execution_count": 10,
     "metadata": {},
     "output_type": "execute_result"
    }
   ],
   "source": [
    "from sklearn.ensemble import RandomForestClassifier\n",
    "\n",
    "rf_amp_mag_classifier = RandomForestClassifier()\n",
    "\n",
    "rf_amp_mag_classifier.fit(X_amp_mag_train, y_amp_mag_train)\n",
    "print()\n",
    "\n",
    "y_amp_mag_pred = rf_amp_mag_classifier.predict(X_amp_mag_val)\n",
    "print(accuracy_score(y_amp_mag_val, y_amp_mag_pred))\n",
    "print(label_encoder.inverse_transform(y_amp_mag_pred))\n",
    "print(label_encoder.inverse_transform(y_amp_mag_val))\n",
    "\n",
    "y_amp_mag_pred = rf_amp_mag_classifier.predict(X_amp_mag_test)\n",
    "print(accuracy_score(y_amp_mag_test, y_amp_mag_pred))\n",
    "print(label_encoder.inverse_transform(y_amp_mag_pred))\n",
    "print(label_encoder.inverse_transform(y_amp_mag_test))\n",
    "\n",
    "dump(rf_amp_mag_classifier, 'rf_amp_mag_classifier.joblib')"
   ]
  },
  {
   "cell_type": "code",
   "execution_count": 11,
   "metadata": {},
   "outputs": [
    {
     "name": "stdout",
     "output_type": "stream",
     "text": [
      "torch.Size([118, 1, 40, 120]) torch.Size([118])\n",
      "Train dataset size: 82\n",
      "Validation dataset size: 18\n",
      "Test dataset size: 18\n",
      "Epoch 1/5, Loss(Train): 2.6567, Accuracy(Train): 0.35, Loss(Val): 1.1497, Accuracy(Val): 0.50\n",
      "Epoch 2/5, Loss(Train): 2.4270, Accuracy(Train): 0.46, Loss(Val): 1.1196, Accuracy(Val): 0.50\n",
      "Epoch 3/5, Loss(Train): 2.2271, Accuracy(Train): 0.50, Loss(Val): 1.0606, Accuracy(Val): 0.67\n",
      "Epoch 4/5, Loss(Train): 2.1302, Accuracy(Train): 0.72, Loss(Val): 1.0069, Accuracy(Val): 0.67\n",
      "Epoch 5/5, Loss(Train): 1.9652, Accuracy(Train): 0.72, Loss(Val): 0.9519, Accuracy(Val): 0.67\n",
      "Final Accuracy(Train): 0.72, Final Accuracy(Val): 0.67\n",
      "predictions_val: [3 7 8 8 7 5 3 8 7 8 8 8 5 7 7 7 5 3]\n",
      "labels_true_val: [3 7 8 8 7 5 3 8 7 8 8 8 5 7 7 7 5 3]\n",
      "1.0\n",
      "              precision    recall  f1-score   support\n",
      "\n",
      "           3       1.00      1.00      1.00         3\n",
      "           5       1.00      1.00      1.00         3\n",
      "           7       1.00      1.00      1.00         6\n",
      "           8       1.00      1.00      1.00         6\n",
      "\n",
      "    accuracy                           1.00        18\n",
      "   macro avg       1.00      1.00      1.00        18\n",
      "weighted avg       1.00      1.00      1.00        18\n",
      "\n",
      "predictions_test: [5 7 5 3 8 3 7 8 3 3 7 3 5 8 3 3 5 3]\n",
      "labels_true_test: [5 7 5 3 8 3 7 8 3 3 7 3 5 8 3 3 5 3]\n",
      "1.0\n",
      "              precision    recall  f1-score   support\n",
      "\n",
      "           3       1.00      1.00      1.00         8\n",
      "           5       1.00      1.00      1.00         4\n",
      "           7       1.00      1.00      1.00         3\n",
      "           8       1.00      1.00      1.00         3\n",
      "\n",
      "    accuracy                           1.00        18\n",
      "   macro avg       1.00      1.00      1.00        18\n",
      "weighted avg       1.00      1.00      1.00        18\n",
      "\n"
     ]
    }
   ],
   "source": [
    "import torch\n",
    "from torch.utils.data import TensorDataset, random_split\n",
    "\n",
    "data_reshaped_for_cnn = torch.tensor(amps_mags.reshape(118, 1, 40, 120), dtype=torch.float32)\n",
    "extracted_labels_cnn = torch.tensor(np.array(extracted_labels), dtype=torch.long)\n",
    "\n",
    "print(data_reshaped_for_cnn.shape, extracted_labels_cnn.shape)\n",
    "cnn_dataset = TensorDataset(data_reshaped_for_cnn, extracted_labels_cnn)\n",
    "\n",
    "total_size = len(cnn_dataset)\n",
    "train_size = int(0.7 * total_size)\n",
    "val_size = (total_size - train_size) // 2\n",
    "test_size = total_size - train_size - val_size\n",
    "\n",
    "# Split the dataset\n",
    "train_dataset, val_dataset, test_dataset = random_split(cnn_dataset, [train_size, val_size, test_size])\n",
    "\n",
    "print(f\"Train dataset size: {len(train_dataset)}\")\n",
    "print(f\"Validation dataset size: {len(val_dataset)}\")\n",
    "print(f\"Test dataset size: {len(test_dataset)}\")\n",
    "\n",
    "new_model = CNN()\n",
    "train_loss, val_loss, accuracy, val_accuracy = new_model.train_model(train_dataset, val_dataset)\n",
    "\n",
    "print(f'Final Accuracy(Train): {accuracy:.2f}, Final Accuracy(Val): {val_accuracy:.2f}')\n",
    "\n",
    "predictions_val, labels_true_val = new_model.predict(val_dataset)\n",
    "predictions_val = label_encoder.inverse_transform(predictions_val)\n",
    "labels_true_val = label_encoder.inverse_transform(labels_true_val)\n",
    "print(f'predictions_val: {predictions_val}')\n",
    "print(f'labels_true_val: {labels_true_val}')\n",
    "print(accuracy_score(labels_true_val, predictions_val))\n",
    "print(classification_report(labels_true_val, predictions_val, zero_division=0))\n",
    "\n",
    "predictions, labels_true = new_model.predict(test_dataset)\n",
    "predictions = label_encoder.inverse_transform(predictions)\n",
    "labels_true = label_encoder.inverse_transform(labels_true)\n",
    "print(f'predictions_test: {predictions}')\n",
    "print(f'labels_true_test: {labels_true}')\n",
    "print(accuracy_score(labels_true, predictions))\n",
    "print(classification_report(labels_true, predictions, zero_division=0))"
   ]
  },
  {
   "cell_type": "code",
   "execution_count": 12,
   "metadata": {},
   "outputs": [
    {
     "name": "stdout",
     "output_type": "stream",
     "text": [
      "[3]\n"
     ]
    }
   ],
   "source": [
    "# consider X[0] first data point\n",
    "print(dt_amp_mag_classifier.predict(amps_mags[5].reshape(1, -1)))"
   ]
  },
  {
   "cell_type": "code",
   "execution_count": 22,
   "metadata": {},
   "outputs": [],
   "source": [
    "import pickle\n",
    "\n",
    "with open('dt_amp_mag_classifier.pkl', 'wb') as f:\n",
    "  pickle.dump(dt_amp_mag_classifier, f)"
   ]
  },
  {
   "cell_type": "code",
   "execution_count": 26,
   "metadata": {},
   "outputs": [
    {
     "name": "stdout",
     "output_type": "stream",
     "text": [
      "(1, 4800)\n",
      "[1]\n"
     ]
    }
   ],
   "source": [
    "print(amps_mags[5].reshape(1, -1).shape)\n",
    "\n",
    "with open('dt_amp_mag_classifier.pkl', 'rb') as f:\n",
    "  test_model = pickle.load(f)\n",
    "print(test_model.predict(amps_mags[113].reshape(1, -1)))"
   ]
  },
  {
   "cell_type": "code",
   "execution_count": 15,
   "metadata": {},
   "outputs": [
    {
     "name": "stdout",
     "output_type": "stream",
     "text": [
      "(141600, 4)\n"
     ]
    },
    {
     "data": {
      "image/png": "[encoded data removed]",
      "text/plain": [
       "<Figure size 640x480 with 1 Axes>"
      ]
     },
     "metadata": {},
     "output_type": "display_data"
    },
    {
     "name": "stdout",
     "output_type": "stream",
     "text": [
      "The most informative feature is at index: 0\n",
      "(118, 1200)\n"
     ]
    },
    {
     "data": {
      "image/png": "[encoded data removed]",
      "text/plain": [
       "<Figure size 640x480 with 1 Axes>"
      ]
     },
     "metadata": {},
     "output_type": "display_data"
    }
   ],
   "source": [
    "import numpy as np\n",
    "from sklearn.preprocessing import StandardScaler\n",
    "\n",
    "# Assuming you have your features stored in a 2D numpy array 'features'\n",
    "# features.shape should be (num_samples, num_features)\n",
    "\n",
    "# 1. Normalize the features\n",
    "scaler = StandardScaler()\n",
    "normalized_features = scaler.fit_transform(amps_mags)\n",
    "\n",
    "# 2. Calculate variance for each feature\n",
    "normalized_features = normalized_features.reshape(-1, 4)\n",
    "print(normalized_features.shape)\n",
    "\n",
    "variances = np.var(normalized_features, axis=0)\n",
    "\n",
    "# 3. Visualize the results\n",
    "import matplotlib.pyplot as plt\n",
    "\n",
    "plt.bar(range(len(variances)), variances)\n",
    "plt.xlabel('Feature Index')\n",
    "plt.ylabel('Variance')\n",
    "plt.title('Feature Variance')\n",
    "plt.show()\n",
    "\n",
    "# 4. Select the most informative feature(s)\n",
    "most_informative_feature_index = np.argmax(variances)\n",
    "print(f\"The most informative feature is at index: {most_informative_feature_index}\")\n",
    "\n",
    "# and also in the 1200 features of ampplitude where are we getting\n",
    "# the most information from\n",
    "amplitudes = np.array(amps).reshape(118, 1200)\n",
    "\n",
    "# 1. Normalize the features\n",
    "scaler = StandardScaler()\n",
    "normalized_amplitudes = scaler.fit_transform(amplitudes)\n",
    "\n",
    "# 2. Calculate variance for each feature\n",
    "normalized_amplitudes = normalized_amplitudes.reshape(-1, 1200)\n",
    "print(normalized_amplitudes.shape)\n",
    "\n",
    "variances = np.var(normalized_amplitudes, axis=0)\n",
    "\n",
    "# 3. Visualize the results\n",
    "plt.bar(range(len(variances)), variances)\n",
    "plt.xlabel('Feature Index')\n",
    "plt.ylabel('Variance')\n",
    "plt.title('Feature Variance')\n",
    "plt.show()\n"
   ]
  },
  {
   "cell_type": "code",
   "execution_count": 16,
   "metadata": {},
   "outputs": [
    {
     "data": {
      "image/png": "[encoded data removed]",
      "text/plain": [
       "<Figure size 640x480 with 1 Axes>"
      ]
     },
     "metadata": {},
     "output_type": "display_data"
    },
    {
     "name": "stdout",
     "output_type": "stream",
     "text": [
      "The most informative feature is at index: 968\n"
     ]
    }
   ],
   "source": [
    "from sklearn.feature_selection import mutual_info_classif\n",
    "\n",
    "reshaped_features = np.array(amps).reshape(118, 1200)\n",
    "\n",
    "# Calculate mutual information for each feature\n",
    "mutual_information = mutual_info_classif(reshaped_features, extracted_labels)  # labels is your target variable\n",
    "\n",
    "# Visualize the results\n",
    "import matplotlib.pyplot as plt\n",
    "\n",
    "plt.bar(range(len(mutual_information)), mutual_information)\n",
    "plt.xlabel('Feature Index')\n",
    "plt.ylabel('Mutual Information')\n",
    "plt.title('Feature Mutual Information For Amplitudes')\n",
    "plt.show()\n",
    "\n",
    "# Select the most informative feature(s)\n",
    "most_informative_feature_index = np.argmax(mutual_information)\n",
    "print(f\"The most informative feature is at index: {most_informative_feature_index}\")\n"
   ]
  },
  {
   "cell_type": "code",
   "execution_count": 17,
   "metadata": {},
   "outputs": [
    {
     "data": {
      "image/png": "[encoded data removed]",
      "text/plain": [
       "<Figure size 640x480 with 1 Axes>"
      ]
     },
     "metadata": {},
     "output_type": "display_data"
    },
    {
     "name": "stdout",
     "output_type": "stream",
     "text": [
      "The most informative feature is at index: 1034\n"
     ]
    }
   ],
   "source": [
    "from sklearn.feature_selection import mutual_info_classif\n",
    "\n",
    "reshaped_features = np.array(mags).reshape(118, 1200)\n",
    "\n",
    "# Calculate mutual information for each feature\n",
    "mutual_information = mutual_info_classif(reshaped_features, extracted_labels)  # labels is your target variable\n",
    "\n",
    "# Visualize the results\n",
    "import matplotlib.pyplot as plt\n",
    "\n",
    "plt.bar(range(len(mutual_information)), mutual_information)\n",
    "plt.xlabel('Feature Index')\n",
    "plt.ylabel('Mutual Information')\n",
    "plt.title('Feature Mutual Information For Magnitude Spectrograms')\n",
    "plt.show()\n",
    "\n",
    "# Select the most informative feature(s)\n",
    "most_informative_feature_index = np.argmax(mutual_information)\n",
    "print(f\"The most informative feature is at index: {most_informative_feature_index}\")"
   ]
  },
  {
   "cell_type": "code",
   "execution_count": 18,
   "metadata": {},
   "outputs": [
    {
     "ename": "ValueError",
     "evalue": "cannot reshape array of size 1 into shape (1,1200)",
     "output_type": "error",
     "traceback": [
      "\u001b[0;31m---------------------------------------------------------------------------\u001b[0m",
      "\u001b[0;31mValueError\u001b[0m                                Traceback (most recent call last)",
      "\u001b[1;32m/Users/chnaveen/Documents/sem5/music/rhythmic-beat-prediction/scripts/data_processing.ipynb Cell 18\u001b[0m line \u001b[0;36m3\n\u001b[1;32m      <a href='vscode-notebook-cell:/Users/chnaveen/Documents/sem5/music/rhythmic-beat-prediction/scripts/data_processing.ipynb#X23sZmlsZQ%3D%3D?line=0'>1</a>\u001b[0m \u001b[39mfrom\u001b[39;00m \u001b[39msklearn\u001b[39;00m\u001b[39m.\u001b[39;00m\u001b[39mfeature_selection\u001b[39;00m \u001b[39mimport\u001b[39;00m mutual_info_classif\n\u001b[0;32m----> <a href='vscode-notebook-cell:/Users/chnaveen/Documents/sem5/music/rhythmic-beat-prediction/scripts/data_processing.ipynb#X23sZmlsZQ%3D%3D?line=2'>3</a>\u001b[0m reshaped_features \u001b[39m=\u001b[39m np\u001b[39m.\u001b[39;49marray(mfccs_new[\u001b[39m0\u001b[39;49m])\u001b[39m.\u001b[39;49mreshape(\u001b[39m1\u001b[39;49m, \u001b[39m1200\u001b[39;49m)\n\u001b[1;32m      <a href='vscode-notebook-cell:/Users/chnaveen/Documents/sem5/music/rhythmic-beat-prediction/scripts/data_processing.ipynb#X23sZmlsZQ%3D%3D?line=4'>5</a>\u001b[0m \u001b[39m# Calculate mutual information for each feature\u001b[39;00m\n\u001b[1;32m      <a href='vscode-notebook-cell:/Users/chnaveen/Documents/sem5/music/rhythmic-beat-prediction/scripts/data_processing.ipynb#X23sZmlsZQ%3D%3D?line=5'>6</a>\u001b[0m mutual_information \u001b[39m=\u001b[39m mutual_info_classif(reshaped_features, extracted_labels[\u001b[39m0\u001b[39m])  \u001b[39m# labels is your target variable\u001b[39;00m\n",
      "\u001b[0;31mValueError\u001b[0m: cannot reshape array of size 1 into shape (1,1200)"
     ]
    }
   ],
   "source": [
    "from sklearn.feature_selection import mutual_info_classif\n",
    "\n",
    "reshaped_features = np.array(mfccs_new[0]).reshape(1, 1200)\n",
    "\n",
    "# Calculate mutual information for each feature\n",
    "mutual_information = mutual_info_classif(reshaped_features, extracted_labels[0])  # labels is your target variable\n",
    "\n",
    "# Visualize the results\n",
    "import matplotlib.pyplot as plt\n",
    "\n",
    "plt.bar(range(len(mutual_information)), mutual_information)\n",
    "plt.xlabel('Feature Index')\n",
    "plt.ylabel('Mutual Information')\n",
    "plt.title('Feature Mutual Information For MFCCs')\n",
    "plt.show()\n",
    "\n",
    "# Select the most informative feature(s)\n",
    "most_informative_feature_index = np.argmax(mutual_information)\n",
    "print(f\"The most informative feature is at index: {most_informative_feature_index}\")"
   ]
  },
  {
   "cell_type": "code",
   "execution_count": null,
   "metadata": {},
   "outputs": [
    {
     "data": {
      "image/png": "[encoded data removed]",
      "text/plain": [
       "<Figure size 640x480 with 1 Axes>"
      ]
     },
     "metadata": {},
     "output_type": "display_data"
    },
    {
     "name": "stdout",
     "output_type": "stream",
     "text": [
      "The most informative feature is at index: 350\n"
     ]
    }
   ],
   "source": [
    "from sklearn.feature_selection import mutual_info_classif\n",
    "\n",
    "reshaped_features = np.array(chromas_new[0]).reshape(1, 1200)\n",
    "\n",
    "# Calculate mutual information for each feature\n",
    "mutual_information = mutual_info_classif(reshaped_features, extracted_labels[0])  # labels is your target variable\n",
    "\n",
    "# Visualize the results with a line plot\n",
    "import matplotlib.pyplot as plt\n",
    "\n",
    "feature_indices = range(len(mutual_information))\n",
    "\n",
    "plt.bar(feature_indices, mutual_information)\n",
    "plt.xlabel('Feature Index')\n",
    "plt.ylabel('Mutual Information')\n",
    "plt.title('Mutual Information vs Feature Index for Chroma Features')\n",
    "plt.show()\n",
    "\n",
    "# Select the most informative feature(s)\n",
    "most_informative_feature_index = np.argmax(mutual_information)\n",
    "print(f\"The most informative feature is at index: {most_informative_feature_index}\")"
   ]
  }
 ],
 "metadata": {
  "kernelspec": {
   "display_name": "Python 3",
   "language": "python",
   "name": "python3"
  },
  "language_info": {
   "codemirror_mode": {
    "name": "ipython",
    "version": 3
   },
   "file_extension": ".py",
   "mimetype": "text/x-python",
   "name": "python",
   "nbconvert_exporter": "python",
   "pygments_lexer": "ipython3",
   "version": "3.9.18"
  }
 },
 "nbformat": 4,
 "nbformat_minor": 2
}
